{
 "cells": [
  {
   "cell_type": "markdown",
   "id": "3226ea3f-2694-454c-8751-6bf4b7638a32",
   "metadata": {},
   "source": [
    "#### Setup"
   ]
  },
  {
   "cell_type": "code",
   "execution_count": 1,
   "id": "fded25ef-d574-4403-be29-591377f323a7",
   "metadata": {},
   "outputs": [
    {
     "name": "stdout",
     "output_type": "stream",
     "text": [
      "Requirement already satisfied: mysql-connector-python in /home/mgil/labs/sql/coursera-capstone/venv/lib/python3.10/site-packages (8.1.0)\n",
      "Requirement already satisfied: protobuf<=4.21.12,>=4.21.1 in /home/mgil/labs/sql/coursera-capstone/venv/lib/python3.10/site-packages (from mysql-connector-python) (4.21.12)\n"
     ]
    }
   ],
   "source": [
    "### MySQL Connector \n",
    "!pip install mysql-connector-python"
   ]
  },
  {
   "cell_type": "markdown",
   "id": "86912d85-93c9-4f60-8a42-917bc0ba9ffc",
   "metadata": {},
   "source": [
    "### App Code"
   ]
  },
  {
   "cell_type": "code",
   "execution_count": 14,
   "id": "37e14561-44e0-44d0-a0d5-ae784d10266b",
   "metadata": {},
   "outputs": [
    {
     "name": "stdout",
     "output_type": "stream",
     "text": [
      "Tables:\n",
      "booking\n",
      "customer\n",
      "expensive_orders\n",
      "menu\n",
      "menu_item\n",
      "order_detail\n",
      "order_status\n",
      "orders\n",
      "staff\n",
      "Customer with orders over $60:\n",
      "Kathryn Marshall, kathryn_marshall706@yahoo.com, 553.86\n",
      "Christopher Martin, christopher_martin442@gmail.com, 1284.56\n",
      "Morgan Arnold, morgan_arnold315@gmail.com, 449.88\n",
      "Chloe Mahoney, chloe_mahoney874@gmail.com, 1638.62\n",
      "Cynthia Allen, cynthia_allen647@hotmail.com, 1663.50\n",
      "Maria Travis, maria_travis832@yahoo.com, 633.83\n",
      "Keith Colon, keith_colon893@hotmail.com, 2095.34\n",
      "Amber Morales, amber_morales709@yahoo.com, 485.75\n",
      "Jessica Barnett, jessica_barnett749@gmail.com, 635.78\n",
      "Jacob Mendez, jacob_mendez886@gmail.com, 1911.54\n",
      "Rachel Anderson, rachel_anderson555@gmail.com, 1653.58\n",
      "Larry Arias, larry_arias562@yahoo.com, 569.88\n",
      "Samuel Anderson, samuel_anderson454@yahoo.com, 230.88\n",
      "Jeffrey Thomas, jeffrey_thomas118@hotmail.com, 1161.67\n",
      "Anthony Young, anthony_young445@yahoo.com, 789.79\n",
      "Dillon Delacruz, dillon_delacruz775@gmail.com, 1141.69\n",
      "Robert Walker, robert_walker949@yahoo.com, 484.84\n",
      "Sabrina Brooks, sabrina_brooks889@yahoo.com, 267.84\n",
      "Omar Ferguson, omar_ferguson141@gmail.com, 1044.66\n",
      "Christian Ross, christian_ross593@gmail.com, 230.91\n",
      "Christopher Baker, christopher_baker561@yahoo.com, 541.83\n",
      "Jennifer Barker, jennifer_barker536@yahoo.com, 466.89\n",
      "Casey Duarte, casey_duarte906@hotmail.com, 830.75\n"
     ]
    }
   ],
   "source": [
    "import mysql.connector as connector\n",
    "\n",
    "db_user = \"root\"\n",
    "db_password = \"Test100\"\n",
    "db_name = \"little_lemon\"\n",
    "db_host = \"127.0.0.1\"\n",
    "db_port = 3300\n",
    "with connector.connect(host=db_host, port=db_port, user = db_user, password = db_password, database=db_name) as conn:\n",
    "    with conn.cursor() as c:\n",
    "        c.execute(\"show tables\")\n",
    "        print(\"Tables:\")\n",
    "        for row in c:\n",
    "            print(row[0])\n",
    "\n",
    "        campaign_query = \"\"\"\n",
    "            select c.name, c.last_name,  c.email, sum(d.cost)\n",
    "            from orders o \n",
    "            join order_detail d\n",
    "            on o.order_id = d.order_id\n",
    "            join customer c\n",
    "            on o.customer_id = c.customer_id\n",
    "            group by o.order_id\n",
    "            having sum(d.cost) > 60\n",
    "        \"\"\"\n",
    "        c.execute(campaign_query)\n",
    "\n",
    "        print(\"Customer with orders over $60:\")\n",
    "\n",
    "        for row in c:\n",
    "            print(\"%s %s, %s, %s\" % (row[0], row[1], row[2], row[3]))"
   ]
  },
  {
   "cell_type": "code",
   "execution_count": null,
   "id": "3710da82-6bda-4bec-8403-8e24432af2d5",
   "metadata": {},
   "outputs": [],
   "source": []
  }
 ],
 "metadata": {
  "kernelspec": {
   "display_name": "Python 3 (ipykernel)",
   "language": "python",
   "name": "python3"
  },
  "language_info": {
   "codemirror_mode": {
    "name": "ipython",
    "version": 3
   },
   "file_extension": ".py",
   "mimetype": "text/x-python",
   "name": "python",
   "nbconvert_exporter": "python",
   "pygments_lexer": "ipython3",
   "version": "3.10.12"
  }
 },
 "nbformat": 4,
 "nbformat_minor": 5
}
